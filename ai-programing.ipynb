{
 "cells": [
  {
   "cell_type": "markdown",
   "metadata": {},
   "source": [
    "\n",
    "# 0.初始化OpenAI客户端\n",
    "目前大多数大模型对遵循了OpenAI提供的大模型接口规范，因此这里直接使用OpenAI提供的SDK库。\n",
    "\n",
    "国内大模型大多也都兼容OpenAI的SDK，如果你无法访问GPT模型，可以选择国内的模型来使用。\n",
    "\n",
    "这里以阿里千万模型为例，使用步骤如下：\n",
    "1. 注册并阿里云百炼平台，地址：https://bailian.console.aliyun.com/#/home\n",
    "2. 登录后，查看自己的api_key，地址：https://bailian.console.aliyun.com/?apiKey=1#/api-key\n",
    "3. 将资料中的.env文件中的OPENAI_API_KEY改成自己的KEY\n",
    "4. 用VSCODE打开code目录中的ai-programing.ipynb文件，会提示安装Jupyter插件，安装后即可运行Python代码\n",
    "5. 注意，如果修改了.env文件，需要重启VSCODE，并修改代码才能生效"
   ]
  },
  {
   "cell_type": "code",
   "execution_count": 16,
   "metadata": {},
   "outputs": [],
   "source": [
    "# 首先需要安装一些基本环境\n",
    "%pip install --upgrade openai\n",
    "%pip install pdfplumber\n",
    "\n"
   ]
  },
  {
   "cell_type": "code",
   "execution_count": 38,
   "metadata": {},
   "outputs": [
    {
     "name": "stdout",
     "output_type": "stream",
     "text": [
      "https://dashscope.aliyuncs.com/compatible-mode/v1/\n"
     ]
    }
   ],
   "source": [
    "\n",
    "from openai import OpenAI\n",
    "import json\n",
    "\n",
    "# 读取本地的 .env 文件到环境变量，在 .env 文件中配置 OPENAI_API_KEY 和 OPENAI_BASE_URL\n",
    "from dotenv import load_dotenv, find_dotenv\n",
    "_ = load_dotenv(find_dotenv())\n",
    "\n",
    "# 初始化 OpenAI 服务，会自动从环境变量加载 OPENAI_API_KEY 和 OPENAI_BASE_URL\n",
    "client = OpenAI() \n",
    "\n",
    "# 模型名称\n",
    "model = \"qwen-max\"\n",
    "\n",
    "# 定义方法，向大模型发送消息\n",
    "def get_completion(prompt, model = model, temperature = 0):\n",
    "    messages = [\n",
    "        {\"role\": \"user\", \"content\": prompt}\n",
    "    ]\n",
    "    response = client.chat.completions.create(\n",
    "        model=model,\n",
    "        messages=messages,\n",
    "        temperature=temperature, # 结果的随机性\n",
    "    )\n",
    "    return response.choices[0].message.content\n",
    "\n",
    "print(client.base_url)"
   ]
  },
  {
   "cell_type": "markdown",
   "metadata": {},
   "source": [
    "# 1.普通Prompt问答\n",
    "特征：\n",
    "- 利用大模型推理能力完成应用端无法实现或难以实现的功能\n",
    "\n",
    "应用场景：\n",
    "- 文本摘要\n",
    "- 舆情分析\n",
    "- 坐席检查\n",
    "\n",
    "## 1.1.文本摘要\n",
    "例如，我们可以使用大模型来生成一篇文章的摘要，或者从一篇文章中提取最重要的部分。"
   ]
  },
  {
   "cell_type": "code",
   "execution_count": 117,
   "metadata": {},
   "outputs": [
    {
     "name": "stdout",
     "output_type": "stream",
     "text": [
      "清楚、具体地指导模型，确保输出相关且准确。\n"
     ]
    }
   ],
   "source": [
    "# text是一段提示词编写的最佳实践方案，我们通过Prompt问答的方式让大模型帮我们抽取文本摘要，而且是用中文\n",
    "text = f\"\"\"\n",
    "    You should express what you want a model to do by \\\n",
    "    providing instructions that are as clear and \\\n",
    "    specific as you can possibly make them. \\\n",
    "    This will guide the model towards the desired output, \\\n",
    "    and reduce the chances of receiving irrelevant \\\n",
    "    or incorrect responses.Don't confuse writing a \\\n",
    "    clear prompt with writing a short prompt. \\\n",
    "    In many cases,longer prompts provide more clarityand \\\n",
    "    context for the model, which can lead to \\\n",
    "    more detailed and relevant outputs.\n",
    "\"\"\"\n",
    "\n",
    "# 提示词：将```中的文本提取为一句话的摘要，限定回答内容不超过50个单词并且以中文回答\n",
    "#prompt = f\"\"\"\n",
    "#Summarize the text delimited by triple backticks into a single sentence, \\\n",
    "#limit your response to 50 words and translate your answer to Chinese.\n",
    "# ```{text}```\n",
    "# \"\"\"\n",
    "\n",
    "prompt = f\"\"\"\n",
    "将```中的文本提取为一句话的摘要，限定回答内容不超过10个词，用中文回答\n",
    "```{text}```\n",
    "\"\"\"\n",
    "response= get_completion(prompt)\n",
    "print(response)"
   ]
  },
  {
   "cell_type": "markdown",
   "metadata": {},
   "source": [
    "## 1.2.舆情分析\n",
    "对于电商网站来说，用户对于商品的评价是非常重要的分析数据：\n",
    "\n",
    "- 可以从评价的文本中分析出哪些词是正面的，哪些词是负面的，正面和负面评价的情感比例是多少？\n",
    "\n",
    "- 可以从评价文本中提取对商品的负面评价的因素，针对性的给出回复，也可以作为商家改进的方向。\n",
    "\n",
    "\n",
    "但是商品的评价数量数以亿记，全靠人类去判断评价太复杂了，传统编程也难以分析文本中的感情因素，这个时候就需要利用大模型了。"
   ]
  },
  {
   "cell_type": "code",
   "execution_count": 119,
   "metadata": {},
   "outputs": [],
   "source": [
    "review = f\"\"\"\n",
    "So, they still had the 17 piece system on seasonal \\\n",
    "sale for around $49 in the month of November, about \\\n",
    "half off, but for some reason(call it price gouging) \\\n",
    "around the second week of December the prices all went \\\n",
    "up to about anywhere from between $70-$89 for the same \\\n",
    "system. And the 11 piece system went up around $10 or \\\n",
    "so in price also from the earlier sale price of $29. \\\n",
    "So it looks okay, but if you look at the base, the part \\\n",
    "where the blade locks into place doesn't look as good \\\n",
    "as in previous editions from a few years ago, but I \\\n",
    "plan to be very gentle with it(example,I crush \\\n",
    "very hard items like beans,ice,rice,etc.in the \\\n",
    "blender first then pulverize them in the serving size \\\n",
    "I want in the blender then switch to the whipping \\\n",
    "blade for a finer floyr, and use the cross cutting blade \\\n",
    "first when making smcthies,then use the flat blade \\\n",
    "if I need them finer/less pulpy). Special tip when making \\\n",
    "smoothies, finely cut and freeze the fruits and \\\n",
    "vegetables(if using spinach-lightly stew soften the \\\n",
    "spinach then freeze until ready for use-and if making \\\n",
    "sorbet,use a small to medium sized food processor) \\\n",
    "that you plan to use that way you can avoid adding so \\\n",
    "much ice if at all-when making your smoothie. \\\n",
    "After about a year,the motor was making a funny noise. \\\n",
    "I called customer service but the warranty expired \\\n",
    "already, so I had to buy another one. FYI: The overall \\\n",
    "quality has gone done in these types of products, so \\\n",
    "they are kind of counting on brand recognition and \\\n",
    "consumer loyalty to maintain sales, Got it in about \\\n",
    "two days .\n",
    "\"\"\""
   ]
  },
  {
   "cell_type": "code",
   "execution_count": 120,
   "metadata": {},
   "outputs": [
    {
     "name": "stdout",
     "output_type": "stream",
     "text": [
      "尊敬的客户，\n",
      "\n",
      "非常感谢您花时间分享您的购物体验。我们很高兴您能在11月享受到我们的季节性优惠，关于价格波动的问题，我们会向相关部门反馈并审视我们的定价策略，确保为所有顾客提供公平合理的价格。\n",
      "\n",
      "对于您提到的产品质量细节，特别是底座及刀片锁定部位的设计变化，您的反馈是我们改进产品的宝贵依据。我们深感歉意给您带来的不便，如果您在使用过程中遇到任何问题，欢迎随时联系我们客服邮箱customerService@itcast.cn，我们将竭诚为您提供解决方案。\n",
      "\n",
      "关于您细腻的使用技巧分享，我们十分感谢，并相信这将对其他用户也有很大的帮助。对于您遇到的电机异响问题以及保修期满的情况，我们感到遗憾。我们正不断努力提升产品耐用度与服务质量，以更好满足顾客的期待。\n",
      "\n",
      "再次感谢您的中肯评价和长期支持，我们诚挚希望未来能以更优质的产品和服务回馈您的信任。\n",
      "\n",
      "祝您生活愉快！\n",
      "\n",
      "AI客户代理\n"
     ]
    }
   ],
   "source": [
    "# prompt = f\"\"\"\n",
    "# You are a customer service AI assistant. \\\n",
    "# Your task is to send an email reply to a valued customer. \\\n",
    "# Given the customer email delimited by ```, \\\n",
    "# Generate a reply to thank the customer for their review. \\\n",
    "# If the sentiment is positive or neutral, thank them fortheir review. \\\n",
    "# If the sentiment is negative,apologize and suggest that \\\n",
    "# they can reach out to customer service. \\\n",
    "# Make sure to use specific details from the review. \\\n",
    "# Write in a concise and professional tone. \\\n",
    "# Sign the email as `AI customer agent`. \\\n",
    "# Customer review:```{review}```\n",
    "# \"\"\"\n",
    "\n",
    "prompt = f\"\"\"\n",
    "你是一名客服人工智能助理。\\\n",
    "你的任务是给一个重要的客户回复信息。\\\n",
    "给定以```分隔的客户的评价, 生成回复以感谢客户的评价。\\\n",
    "如果用户的评价是正面的或中性的，那就感谢他们的评价。\\\n",
    "如果用户评价情绪是负面的，道歉并建议他们可以联系客服 customerService@itcast.cn。\\\n",
    "确保使用审查中的具体细节。用简洁和专业的语气写作。用中文回复。\\\n",
    "将你的回复签名为\"AI客户代理\"。\\\n",
    "客户评价：```{review}```\n",
    "\"\"\"\n",
    "\n",
    "\n",
    "response= get_completion(prompt, temperature=0.7)\n",
    "print(response)"
   ]
  },
  {
   "cell_type": "markdown",
   "metadata": {},
   "source": [
    "\n",
    "# 2.Function Calling\n",
    "示意图：<br/>\n",
    "\n",
    "<img src=\"./fc.png\" />\n",
    "\n",
    "\n",
    "特征：\n",
    "- 将应用端业务能力与AI大模型推理能力结合，简化复杂业务功能开发\n",
    "- 利用应用端能力将AI与外部世界连接起来，弥补AI模型缺陷：\n",
    "    - 大模型不是无所不知\n",
    "    - 大模型知识往往比较落后\n",
    "    - 大模型逻辑是统计规律，不是真逻辑，存在幻觉\n",
    "\n",
    "\n",
    "应用场景：\n",
    "- 智能体（旅行指南、日程安排等）\n",
    "- 数据提取\n",
    "- 数据聚合分析\n"
   ]
  },
  {
   "cell_type": "code",
   "execution_count": 121,
   "metadata": {},
   "outputs": [],
   "source": [
    "def print_json(data):\n",
    "    \"\"\"\n",
    "    打印参数。如果参数是有结构的（如字典或列表），则以格式化的 JSON 形式打印；\n",
    "    否则，直接打印该值。\n",
    "    \"\"\"\n",
    "    if hasattr(data, 'model_dump_json'):\n",
    "        data = json.loads(data.model_dump_json())\n",
    "\n",
    "    if (isinstance(data, (list))):\n",
    "        for item in data:\n",
    "            print_json(item)\n",
    "    elif (isinstance(data, (dict))):\n",
    "        print(json.dumps(\n",
    "            data,\n",
    "            indent=4,\n",
    "            ensure_ascii=False\n",
    "        ))\n",
    "    else:\n",
    "        print(data)"
   ]
  },
  {
   "cell_type": "code",
   "execution_count": 122,
   "metadata": {},
   "outputs": [],
   "source": [
    "#  描述数据库表结构\n",
    "users_schema = \"\"\"\n",
    "CREATE TABLE users (\n",
    "    id INT PRIMARY KEY NOT NULL, -- 主键，不允许为空\n",
    "    user_name VARCHAR(255) NOT NULL, -- 用户名，不允许为空\n",
    "    email VARCHAR(255) UNIQUE, -- 邮箱，唯一\n",
    "    create_time TIMESTAMP DEFAULT CURRENT_TIMESTAMP -- 注册时间，默认为当前时间\n",
    ");\n",
    "\"\"\"\n",
    "items_schema = \"\"\"\n",
    "CREATE TABLE items (\n",
    "    id INT PRIMARY KEY NOT NULL, -- 主键，不允许为空\n",
    "    name VARCHAR(255) NOT NULL, -- 商品名称，不允许为空\n",
    "    price DECIMAL(10,1) NOT NULL -- 价格，不允许为空\n",
    ");\n",
    "\"\"\"\n",
    "orders_schema = \"\"\"\n",
    "CREATE TABLE orders (\n",
    "    id LONG PRIMARY KEY NOT NULL, -- 主键，不允许为空\n",
    "    user_id INT NOT NULL, -- 客户ID，不允许为空\n",
    "    item_id STR NOT NULL, -- 商品ID，不允许为空\n",
    "    price DECIMAL(10,1) NOT NULL, -- 下单价格，不允许为空\n",
    "    amount INT NOT NULL, -- 下单数量，不允许为空\n",
    "    status INT NOT NULL, -- 订单状态，整数类型，不允许为空。0-未支付; 1-已支付; 2-已取消; 3-已发货; 4-已完成; 5-已退款\n",
    "    create_time TIMESTAMP DEFAULT CURRENT_TIMESTAMP, -- 创建时间，默认为当前时间\n",
    "    pay_time TIMESTAMP, -- 支付时间，可以为空\n",
    "    cancel_time TIMESTAMP, -- 取消时间，可以为空\n",
    "    deliver_time TIMESTAMP, -- 发货时间，可以为空\n",
    "    finish_time TIMESTAMP, -- 完成时间，可以为空\n",
    "    refund_time TIMESTAMP -- 退款时间，可以为空\n",
    ");\n",
    "\"\"\"\n",
    "database_schema_string = users_schema +\"\\n\"+ items_schema +\"\\n\"+ orders_schema"
   ]
  },
  {
   "cell_type": "code",
   "execution_count": 123,
   "metadata": {},
   "outputs": [],
   "source": [
    "import sqlite3\n",
    "\n",
    "# 创建数据库连接\n",
    "connection = sqlite3.connect(':memory:')\n",
    "cursor = connection.cursor()\n",
    "\n",
    "# 创建orders表\n",
    "cursor.execute(users_schema)\n",
    "cursor.execute(items_schema)\n",
    "cursor.execute(orders_schema)\n",
    "\n",
    "# 插入5条明确的模拟数据\n",
    "mock_order_data = [\n",
    "    (1, 1001, 11001, 48.8, 1, 0, '2024-06-12 10:00:00', None, None, None, None, None),\n",
    "    (2, 1001, 11002, 79.9, 2, 1, '2024-06-16 11:00:00', '2024-06-16 11:02:00', None, None, None, None),\n",
    "    (3, 1002, 21001, 25.0, 1, 4, '2024-06-17 12:30:00', '2024-06-17 12:35:00', None, '2024-06-17 16:30:00', '2024-06-20 20:35:00', None),\n",
    "    (4, 1003, 21002, 64.8, 1, 1, '2024-06-20 14:00:00', '2024-06-20 14:01:00', None, None, None, None),\n",
    "    (5, 1002, 31001, 89.9, 1, 2, '2024-06-28 18:20:00', None, '2024-06-28 18:50:00', None, None, None)\n",
    "]\n",
    "\n",
    "for record in mock_order_data:\n",
    "    cursor.execute('''\n",
    "    INSERT INTO orders (id, user_id, item_id, price, amount, status, create_time, pay_time, cancel_time, deliver_time, finish_time, refund_time)\n",
    "    VALUES (?, ?, ?, ?, ?, ?, ?, ?, ?, ?, ?, ?)\n",
    "    ''', record)\n",
    "\n",
    "mock_user_data = [\n",
    "    (1001, 'Jack', 'jack@itcast.cn','2024-1-12 10:00:00'),\n",
    "    (1002, 'Rose', 'rose@itcast.cn','2023-11-22 12:00:00'),\n",
    "    (1003, 'Amy', 'amy@itcast.cn','2023-6-21 09:00:00'),\n",
    "]\n",
    "\n",
    "for record in mock_user_data:\n",
    "    cursor.execute('''\n",
    "    INSERT INTO users (id, user_name, email, create_time)\n",
    "    VALUES (?, ?, ?, ?)\n",
    "    ''', record)\n",
    "\n",
    "mock_item_data = [\n",
    "    (11001, '鼠标', 48.8),\n",
    "    (11002, '键盘', 79.9),\n",
    "    (21001, '五常大米2.5KG', 32.5),\n",
    "    (21002, '五常大米5KG', 64.8),\n",
    "    (31001, '金鱼调和油', 89.9),\n",
    "]\n",
    "\n",
    "for record in mock_item_data:\n",
    "    cursor.execute('''\n",
    "    INSERT INTO items (id, name, price)\n",
    "    VALUES (?, ?, ?)\n",
    "    ''', record)\n",
    "\n",
    "# 提交事务\n",
    "connection.commit()"
   ]
  },
  {
   "cell_type": "code",
   "execution_count": 124,
   "metadata": {},
   "outputs": [],
   "source": [
    "# 以下参考官方案例：\n",
    "# https://github.com/openai/openai-cookbook/blob/main/examples/How_to_call_functions_with_chat_models.ipynb\n",
    "\n",
    "\n",
    "# 定义一个查询数据库的函数，传入SQL语句，返回查询结果\n",
    "def query_db(sql):\n",
    "    cursor.execute(sql)\n",
    "    result = cursor.fetchall()\n",
    "    return result\n",
    "\n",
    "# 定义一个函数，调用OpenAI接口，传入消息体， 返回SQL语句\n",
    "def get_sql_completion(messages, model = model):\n",
    "    response = client.chat.completions.create(\n",
    "        model=model,\n",
    "        messages=messages,\n",
    "        temperature=0, # 结果的随机性设置为0，因为SQL必须准确\n",
    "        tools = [{ # 定义函数，供大模型调用\n",
    "            \"type\": \"function\",\n",
    "            \"function\": {\n",
    "                \"name\": \"query_db\",\n",
    "                \"description\": \"Use this function to answer user questions about business. \\\n",
    "                            Input should be a fully formed SQL query.\",\n",
    "                \"parameters\": {\n",
    "                    \"type\": \"object\",\n",
    "                    \"properties\": {\n",
    "                        \"sql\": {\n",
    "                            \"type\": \"string\",\n",
    "                            \"description\": f\"\"\"\n",
    "                                SQL query extracting info to answer the user's question.\n",
    "                                SQL should be written using this database schema:\n",
    "                                {database_schema_string}\n",
    "                                The query should be returned in plain text, not in JSON.\n",
    "                                The query should only contain grammars supported by SQLite.\n",
    "                            \"\"\",\n",
    "                        }\n",
    "                    },\n",
    "                    \"required\": [\"sql\"],\n",
    "                }\n",
    "            }\n",
    "        }]\n",
    "    )\n",
    "    return response.choices[0].message"
   ]
  },
  {
   "cell_type": "code",
   "execution_count": 126,
   "metadata": {},
   "outputs": [
    {
     "name": "stdout",
     "output_type": "stream",
     "text": [
      "====Function Calling====\n",
      "{\n",
      "    \"content\": \"\",\n",
      "    \"role\": \"assistant\",\n",
      "    \"function_call\": null,\n",
      "    \"tool_calls\": [\n",
      "        {\n",
      "            \"id\": \"\",\n",
      "            \"function\": {\n",
      "                \"arguments\": \"{\\\"sql\\\": \\\"SELECT strftime('%Y-%m', orders.create_time) AS month, items.name AS product, SUM(orders.price * orders.amount) AS sales\\\\nFROM orders\\\\nJOIN items ON orders.item_id = items.id\\\\nGROUP BY month, product\\\"}\",\n",
      "                \"name\": \"query_db\"\n",
      "            },\n",
      "            \"type\": \"function\"\n",
      "        }\n",
      "    ]\n",
      "}\n",
      "====SQL====\n",
      "SELECT strftime('%Y-%m', orders.create_time) AS month, items.name AS product, SUM(orders.price * orders.amount) AS sales\n",
      "FROM orders\n",
      "JOIN items ON orders.item_id = items.id\n",
      "GROUP BY month, product\n",
      "====DB Records====\n",
      "[('2024-06', '五常大米2.5KG', 25), ('2024-06', '五常大米5KG', 64.8), ('2024-06', '金鱼调和油', 89.9), ('2024-06', '键盘', 159.8), ('2024-06', '鼠标', 48.8)]\n",
      "====最终回复====\n",
      "以下是2024年6月每件商品的销售额统计：\n",
      "\n",
      "- **五常大米2.5KG**：销售额为25元\n",
      "- **五常大米5KG**：销售额为64.8元\n",
      "- **金鱼调和油**：销售额为89.9元\n",
      "- **键盘**：销售额为159.8元\n",
      "- **鼠标**：销售额为48.8元\n",
      "\n",
      "如果您需要其他月份的数据或其他信息，请告诉我。\n"
     ]
    }
   ],
   "source": [
    "# prompt = \"统计2024年6月的销售额\"\n",
    "prompt = \"统计每月每件商品的销售额\"\n",
    "# prompt = \"哪个用户消费最高？消费了多少？\"\n",
    "\n",
    "messages = [\n",
    "    {\"role\": \"user\", \"content\": prompt}\n",
    "]\n",
    "# 第一次调用，大模型回返回函数调用的信息\n",
    "response = get_sql_completion(messages)\n",
    "\n",
    "# 判断是否正确返回，如果没有返回则置空\n",
    "if response.content is None:\n",
    "    response.content = \"\"\n",
    "\n",
    "# 大模型返回的函数调用信息需要追加到message中，作为下一次调用的上下文\n",
    "messages.append(response)\n",
    "print(\"====Function Calling====\")\n",
    "print_json(response)\n",
    "\n",
    "# 如果返回了函数调用信息，则需要应用端调用函数，获取函数的返回值\n",
    "if response.tool_calls is not None:\n",
    "    tool_call = response.tool_calls[0]\n",
    "    # 获取函数名称，执行对应函数，因为复杂业务中可以能有有多个函数，所以需要根据函数名称判断\n",
    "    if tool_call.function.name == \"query_db\":\n",
    "        arguments = tool_call.function.arguments\n",
    "        args = json.loads(arguments)\n",
    "        print(\"====SQL====\")\n",
    "        print(args[\"sql\"])\n",
    "        # 根据大模型生成的SQL，查询数据库\n",
    "        result = query_db(args[\"sql\"])\n",
    "        print(\"====DB Records====\")\n",
    "        print(result)\n",
    "\n",
    "        # 将数据库查询结果追加到messages中，作为下次prompt的上下文\n",
    "        messages.append({\n",
    "            \"tool_call_id\": tool_call.id,\n",
    "            \"role\": \"tool\",\n",
    "            \"name\": \"query_db\",\n",
    "            \"content\": str(result)\n",
    "        })\n",
    "\n",
    "        # 再次调用大模型，获取最终回复\n",
    "        response = get_sql_completion(messages)\n",
    "        print(\"====最终回复====\")\n",
    "        print(response.content)"
   ]
  },
  {
   "cell_type": "markdown",
   "metadata": {},
   "source": [
    "# 3.RAG\n",
    "<strong>示意图：</strong>\n",
    "<img src=\"./rag.png\" />\n",
    "\n",
    "<strong>离线步骤：</strong>\n",
    "- 文档加载\n",
    "- 文档切分\n",
    "- 向量化\n",
    "- 灌入向量数据库\n",
    "\n",
    "\n",
    "<strong>在线步骤：</strong>\n",
    "- 获得用户问题\n",
    "- 用户问题向量化\n",
    "- 检索向量数据库\n",
    "- 将检索结果和用户问题填入Prompt模版\n",
    "- 用最终获得的Prompt调用LLM\n",
    "- 由 LLM 生成回复\n",
    "\n",
    "<strong>应用场景：</strong>\n",
    "- AI客服\n",
    "- AI知识库\n",
    "\n",
    "\n",
    "\n"
   ]
  },
  {
   "cell_type": "code",
   "execution_count": 114,
   "metadata": {},
   "outputs": [
    {
     "name": "stdout",
     "output_type": "stream",
     "text": [
      "《论语》是儒家经典之一，记载了孔子及其弟子的言行。在《论语》中，教育的目的可以概括为以下几个方面：\n",
      "\n",
      "1. **培养君子**：《论语》强调教育的首要目的是培养“君子”，君子是指具有高尚道德品质、学问修养和社会责任感的人。孔子认为，君子应当仁爱、礼让、诚信、智慧，并能以身作则，引领社会风气。\n",
      "\n",
      "2. **修身齐家治国平天下**：这是儒家教育的理想路径。首先通过教育修身（提升个人品德与能力），进而管理好家庭（齐家），然后有能力参与国家治理（治国），最终达到社会和谐与世界太平（平天下）。这一理念体现了从个人修养到社会责任的递进过程。\n",
      "\n",
      "3. **传道授业解惑**：教育不仅要传授知识和技能（授业），更重要的是传播道德观念和人生哲理（传道），以及解答疑惑（解惑），帮助学生形成正确的世界观和价值观。\n",
      "\n",
      "4. **知行合一**：孔子提倡“知之为知之，不知为不知”，强调诚实求知的态度，同时注重理论与实践相结合，倡导“学而时习之”，通过实践来检验和深化所学知识，实现知识与行动的统一。\n",
      "\n",
      "5. **仁爱教育**：仁是儒家的核心概念，教育的目的是培养人的仁爱心，使个体能够爱人、尊重人，以仁爱之心处理人际关系，构建和谐社会。\n",
      "\n",
      "总之，《论语》中的教育目的不仅仅是知识的传授，更重视德性的培养、人格的完善以及社会责任感的建立，旨在培养出既有深厚文化素养，又能积极贡献于社会的全面发展的人才。\n"
     ]
    }
   ],
   "source": [
    "prompt = \"论语中教育的目的是什么\"\n",
    "\n",
    "response= get_completion(prompt)\n",
    "print(response)"
   ]
  },
  {
   "cell_type": "code",
   "execution_count": 127,
   "metadata": {},
   "outputs": [],
   "source": [
    "import pdfplumber\n",
    "import re\n",
    "# 定义函数，提取PDF文件内容\n",
    "def extract_text_from_pdf(filename, page_numbers=None):\n",
    "    full_text = ''\n",
    "    paragraphs = []\n",
    "    # 提取全部文本\n",
    "    with pdfplumber.open('中二知识笔记.pdf') as pdf:\n",
    "        for i, page in enumerate(pdf.pages):\n",
    "            if page_numbers is not None and i not in page_numbers:\n",
    "                continue\n",
    "            text = page.extract_text()\n",
    "            full_text += text\n",
    "    chapters = re.split('（[\\u4e00-\\u9fa5]）', full_text)\n",
    "    for chapter in chapters:\n",
    "        paragraphs.append(chapter)\n",
    "    return paragraphs"
   ]
  },
  {
   "cell_type": "code",
   "execution_count": 128,
   "metadata": {},
   "outputs": [],
   "source": [
    "paragraphs = extract_text_from_pdf(\"中二知识笔记.pdf\", [1])\n"
   ]
  },
  {
   "cell_type": "code",
   "execution_count": 101,
   "metadata": {},
   "outputs": [
    {
     "name": "stdout",
     "output_type": "stream",
     "text": [
      "\n",
      "\n",
      "孔子及《论语》主要思想\n",
      "角度 观点\n",
      "教育作用 庶、富、教。性相近，习相远。\n",
      "教育对象 “有教无类”；教育民主思想。\n",
      "教育目的 以完善人格为教育的首要目的，培养士和君子。\n",
      "教学内容 文、行、忠、义。\n",
      "教学过程 学、思、习、行。\n",
      "教学原则 因材施教、启发诱导、学思结合、谦虚笃实\n",
      "教师观 其身正，不令而行；其身不正，虽令不从\n",
      "\n",
      "\n",
      "孟子主要思想\n",
      "角度 观点\n",
      "人性论 人性本善，人先天具有仁、义、礼、智四个“善端”。\n",
      "教育作用 发扬善端，培养道德完人，得天下英才而教育之。\n",
      "教学原则 循序渐进，专心有恒\n",
      "\n",
      "\n",
      "荀子主要思想\n",
      "角度 观点\n",
      "人性论 性恶论，化性起伪，善德是后天习得的。重视教育的作用。\n",
      "教学原则 学以致用，锲而不舍\n",
      "\n",
      "\n",
      "希腊三贤\n",
      "教育家 思想\n",
      "苏格拉底 产婆术（谈话法），分三步：讽刺—定义—助产术。国外启发式教育第一人。\n",
      "柏拉图 《理想国》提出普及教育的主张，教育目的是培养哲学王。\n",
      "亚里士多德 提出自由教育，提倡对学生进行和谐全面发展的教育。灵魂说。\n",
      "\n"
     ]
    }
   ],
   "source": [
    "# 输出每段话\n",
    "for paragraph in paragraphs:\n",
    "    print(paragraph + \"\\n\")"
   ]
  },
  {
   "cell_type": "code",
   "execution_count": 32,
   "metadata": {},
   "outputs": [],
   "source": [
    "# 准备环境，这里我们采用阿里百炼提供的向量模型\n",
    "# %pip install dashscope"
   ]
  },
  {
   "cell_type": "code",
   "execution_count": 129,
   "metadata": {},
   "outputs": [],
   "source": [
    "# 文本向量化\n",
    "import dashscope\n",
    "from http import HTTPStatus\n",
    "dashscope.api_key=client.api_key\n",
    "\n",
    "def embed_with_str(text):\n",
    "    resp = dashscope.TextEmbedding.call(\n",
    "        model=dashscope.TextEmbedding.Models.text_embedding_v3,\n",
    "        input=text)\n",
    "    if resp.status_code == HTTPStatus.OK:\n",
    "        return [x['embedding'] for x in resp.output['embeddings']]\n",
    "    else:\n",
    "        return []"
   ]
  },
  {
   "cell_type": "code",
   "execution_count": 72,
   "metadata": {},
   "outputs": [
    {
     "name": "stdout",
     "output_type": "stream",
     "text": [
      "[-0.06612710654735565, 0.010652517899870872, -0.08436639606952667, 0.0046180314384400845, -0.015474286861717701, -0.010749535635113716, -0.03143366053700447, 0.06787342578172684, -0.03859354928135872, 0.05378648638725281]\n"
     ]
    }
   ],
   "source": [
    "test_query = [\n",
    "    '衣服的质量杠杠的，很漂亮，不枉我等了这么久啊，喜欢，以后还来这里买'\n",
    "]\n",
    "vecs = embed_with_str(test_query)[0]\n",
    "print(vecs[:10])"
   ]
  },
  {
   "cell_type": "markdown",
   "metadata": {},
   "source": [
    "文本向量化以后，我们可以利用向量间距离来计算文本相似度。\n",
    "有两种不同的计算方式：\n",
    "1. 欧氏距离\n",
    "2. 余弦距离\n",
    "\n",
    "<img src=\"sim.png\" style=\"margin-left: 0px\" width=500px>"
   ]
  },
  {
   "cell_type": "code",
   "execution_count": 68,
   "metadata": {},
   "outputs": [],
   "source": [
    "import numpy as np\n",
    "from numpy import dot\n",
    "from numpy.linalg import norm\n",
    "\n",
    "def cos_sim(a, b):\n",
    "    '''余弦距离 -- 越大越相似'''\n",
    "    return dot(a, b)/(norm(a)*norm(b))\n",
    "\n",
    "\n",
    "def l2(a, b):\n",
    "    '''欧式距离 -- 越小越相似'''\n",
    "    x = np.asarray(a)-np.asarray(b)\n",
    "    return norm(x)"
   ]
  },
  {
   "cell_type": "code",
   "execution_count": 74,
   "metadata": {},
   "outputs": [
    {
     "name": "stdout",
     "output_type": "stream",
     "text": [
      "Cosine distance:\n",
      "0.9999999999999999\n",
      "0.5491419200342438\n",
      "0.41206917395007464\n",
      "0.4243735945985427\n",
      "0.3256978300146348\n",
      "0.3413411629074793\n",
      "\n",
      "Euclidean distance:\n",
      "0.0\n",
      "0.9495871790553803\n",
      "1.0843713874148921\n",
      "1.072964301120678\n",
      "1.1612943820434174\n",
      "1.1477441864104283\n"
     ]
    }
   ],
   "source": [
    "# query = \"国际争端\"\n",
    "\n",
    "# 且能支持跨语言\n",
    "query = \"global conflicts\"\n",
    "\n",
    "documents = [\n",
    "    \"联合国就以色列空袭加沙致平民伤亡事件发出警告\",\n",
    "    \"土耳其、芬兰、瑞典与北约代表将继续就瑞典“入约”问题进行谈判\",\n",
    "    \"日本岐阜市陆上自卫队射击场内发生枪击事件 3人受伤\",\n",
    "    \"国家游泳中心（水立方）：恢复游泳、嬉水乐园等水上项目运营\",\n",
    "    \"我国首次在空间站开展舱外辐射生物学暴露实验\",\n",
    "]\n",
    "\n",
    "query_vec = embed_with_str([query])[0]\n",
    "doc_vecs = embed_with_str(documents)\n",
    "\n",
    "print(\"Cosine distance:\")\n",
    "print(cos_sim(query_vec, query_vec))\n",
    "for vec in doc_vecs:\n",
    "    print(cos_sim(query_vec, vec))\n",
    "\n",
    "print(\"\\nEuclidean distance:\")\n",
    "print(l2(query_vec, query_vec))\n",
    "for vec in doc_vecs:\n",
    "    print(l2(query_vec, vec))"
   ]
  },
  {
   "cell_type": "code",
   "execution_count": 76,
   "metadata": {},
   "outputs": [],
   "source": [
    "# 导入一个向量数据库\n",
    "# %pip install chromadb"
   ]
  },
  {
   "cell_type": "code",
   "execution_count": 130,
   "metadata": {},
   "outputs": [],
   "source": [
    "import chromadb\n",
    "from chromadb.config import Settings\n",
    "\n",
    "\n",
    "class MyVectorDBConnector:\n",
    "    def __init__(self, collection_name, embedding_fn):\n",
    "        chroma_client = chromadb.Client(Settings(allow_reset=True))\n",
    "\n",
    "        # 为了演示，实际不需要每次 reset()\n",
    "        chroma_client.reset()\n",
    "\n",
    "        # 创建一个 collection\n",
    "        self.collection = chroma_client.get_or_create_collection(name=collection_name)\n",
    "        self.embedding_fn = embedding_fn\n",
    "\n",
    "    def add_documents(self, documents):\n",
    "        '''向 collection 中添加文档与向量'''\n",
    "        self.collection.add(\n",
    "            embeddings=self.embedding_fn(documents),  # 每个文档的向量\n",
    "            documents=documents,  # 文档的原文\n",
    "            ids=[f\"id{i}\" for i in range(len(documents))]  # 每个文档的 id\n",
    "        )\n",
    "\n",
    "    def search(self, query, top_n):\n",
    "        '''检索向量数据库'''\n",
    "        results = self.collection.query(\n",
    "            query_embeddings=self.embedding_fn([query]),\n",
    "            n_results=top_n\n",
    "        )\n",
    "        return results"
   ]
  },
  {
   "cell_type": "code",
   "execution_count": 131,
   "metadata": {},
   "outputs": [],
   "source": [
    "# 创建一个向量数据库对象\n",
    "vector_db = MyVectorDBConnector(\"demo\", embed_with_str)\n",
    "# 向向量数据库中添加文档\n",
    "vector_db.add_documents(paragraphs)"
   ]
  },
  {
   "cell_type": "code",
   "execution_count": 109,
   "metadata": {},
   "outputs": [],
   "source": [
    "user_query = \"希腊三贤\"\n",
    "results = vector_db.search(user_query, 2)"
   ]
  },
  {
   "cell_type": "code",
   "execution_count": 110,
   "metadata": {},
   "outputs": [
    {
     "name": "stdout",
     "output_type": "stream",
     "text": [
      "希腊三贤\n",
      "教育家 思想\n",
      "苏格拉底 产婆术（谈话法），分三步：讽刺—定义—助产术。国外启发式教育第一人。\n",
      "柏拉图 《理想国》提出普及教育的主张，教育目的是培养哲学王。\n",
      "亚里士多德 提出自由教育，提倡对学生进行和谐全面发展的教育。灵魂说。\n",
      "\n",
      "荀子主要思想\n",
      "角度 观点\n",
      "人性论 性恶论，化性起伪，善德是后天习得的。重视教育的作用。\n",
      "教学原则 学以致用，锲而不舍\n",
      "\n",
      "\n"
     ]
    }
   ],
   "source": [
    "for para in results['documents'][0]:\n",
    "    print(para+\"\\n\")"
   ]
  },
  {
   "cell_type": "code",
   "execution_count": 111,
   "metadata": {},
   "outputs": [],
   "source": [
    "\n",
    "# 定义函数，实现知识检索\n",
    "def knowledge_retrieval(query):\n",
    "    # 1.检索向量数据库\n",
    "    search_results = vector_db.search(query, 2)\n",
    "    # 2.构建Prompt\n",
    "    prompt = f\"\"\"\n",
    "    你是一个问答机器人。\n",
    "    你的任务是根据下述给定的已知信息回答用户问题。\n",
    "    确保你的回复完全依据下述已知信息。不要编造答案。\n",
    "    如果下述已知信息不足以回答用户的问题，请直接回复\"我无法回答您的问题\"。\n",
    "\n",
    "    已知信息:\n",
    "    {search_results}\n",
    "\n",
    "    用户问：\n",
    "    {query}\n",
    "\n",
    "    请用中文回答用户问题。\n",
    "    \"\"\"\n",
    "\n",
    "    # 3.调用LLM\n",
    "    response = get_completion(prompt)\n",
    "    return response"
   ]
  },
  {
   "cell_type": "code",
   "execution_count": 132,
   "metadata": {},
   "outputs": [
    {
     "name": "stdout",
     "output_type": "stream",
     "text": [
      "论语中教育的首要目的是以完善人格为教育的目标，旨在培养士和君子。\n"
     ]
    }
   ],
   "source": [
    "# user_query = \"希腊三贤有哪几个？\"\n",
    "# user_query = \"荀子的主要思想？\"\n",
    "user_query = \"论语中教育的目的是什么？\"\n",
    "\n",
    "response = knowledge_retrieval(user_query)\n",
    "\n",
    "print(response)"
   ]
  }
 ],
 "metadata": {
  "kernelspec": {
   "display_name": "Python 3",
   "language": "python",
   "name": "python3"
  },
  "language_info": {
   "codemirror_mode": {
    "name": "ipython",
    "version": 3
   },
   "file_extension": ".py",
   "mimetype": "text/x-python",
   "name": "python",
   "nbconvert_exporter": "python",
   "pygments_lexer": "ipython3",
   "version": "3.10.11"
  }
 },
 "nbformat": 4,
 "nbformat_minor": 2
}
